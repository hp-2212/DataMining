{
 "cells": [
  {
   "cell_type": "code",
   "execution_count": 2,
   "id": "345505be",
   "metadata": {},
   "outputs": [],
   "source": [
    "import pandas as pd\n",
    "import numpy as np\n",
    "from sklearn.tree import DecisionTreeClassifier\n",
    "from sklearn.model_selection import train_test_split\n",
    "from sklearn.metrics import accuracy_score\n",
    "from sklearn.model_selection import GridSearchCV\n",
    "from sklearn.preprocessing import LabelEncoder\n",
    "from pandas.api.types import CategoricalDtype\n",
    "from sklearn.metrics import f1_score\n",
    "from sklearn.metrics import confusion_matrix\n",
    "import time"
   ]
  },
  {
   "cell_type": "code",
   "execution_count": 3,
   "id": "832417d6",
   "metadata": {},
   "outputs": [],
   "source": [
    "data = pd.read_csv('car_kick.csv')\n",
    "# Deleting Unwanted Columns of Data\n",
    "data = data.drop(['PurchDate','Color', 'VNZIP1'], axis=1)\n",
    "\n",
    "# Deleting Missing Values\n",
    "data = data[data['MMRAcquisitionAuctionAveragePrice']!=0]\n",
    "data = data[data['MMRAcquisitionAuctionCleanPrice']!=0]\n",
    "data = data[data['MMRAcquisitionRetailAveragePrice']!=0]\n",
    "data = data[data['MMRAcquisitonRetailCleanPrice']!=0]\n",
    "\n",
    "X = data.iloc[:, :data.shape[1]-1]\n",
    "Y = data.iloc[:, data.shape[1]-1]"
   ]
  },
  {
   "cell_type": "code",
   "execution_count": 4,
   "id": "e18e6e0b",
   "metadata": {},
   "outputs": [],
   "source": [
    "# Name of Data Attributes\n",
    "N = np.array(X.columns)\n",
    "# print(N)\n",
    "\n",
    "encoder = LabelEncoder()\n",
    "\n",
    "for i in range(len(N)):\n",
    "    if type(X.loc[0, N[i]]) == str :\n",
    "        X[N[i]] = encoder.fit_transform(X[N[i]])\n",
    "\n",
    "\n",
    "# Normailising the Data\n",
    "for i in range(len(N)):\n",
    "    X[N[i]] = ( ( X[N[i]] - X[N[i]].min() ) /  (X[N[i]].max() - X[N[i]].min()))"
   ]
  },
  {
   "cell_type": "code",
   "execution_count": 5,
   "id": "385ffecb",
   "metadata": {},
   "outputs": [],
   "source": [
    "# Classifying Attributes as Ordinal and Nominal\n",
    "X['Auction'] = X['Auction'].astype(CategoricalDtype(ordered=False))\n",
    "X['Make'] = X['Make'].astype(CategoricalDtype(ordered=False))\n",
    "X['Model'] = X['Model'].astype(CategoricalDtype(ordered=False))\n",
    "X['Trim'] = X['Trim'].astype(CategoricalDtype(ordered=False))\n",
    "X['SubModel'] = X['SubModel'].astype(CategoricalDtype(ordered=False))\n",
    "X['Transmission'] = X['Transmission'].astype(CategoricalDtype(ordered=False))\n",
    "X['WheelTypeID'] = X['WheelTypeID'].astype(CategoricalDtype(ordered=False))\n",
    "X['WheelType'] = X['WheelType'].astype(CategoricalDtype(ordered=False))\n",
    "X['Nationality'] = X['Nationality'].astype(CategoricalDtype(ordered=False))\n",
    "X['TopThreeAmericanName'] = X['TopThreeAmericanName'].astype(CategoricalDtype(ordered=False))\n",
    "X['BYRNO'] = X['BYRNO'].astype(CategoricalDtype(ordered=False))\n",
    "X['VNST'] = X['VNST'].astype(CategoricalDtype(ordered=False))"
   ]
  },
  {
   "cell_type": "code",
   "execution_count": 6,
   "id": "87323306",
   "metadata": {},
   "outputs": [],
   "source": [
    "X_train, X_test, Y_train, Y_test = train_test_split(X, Y, random_state = 40, test_size = 0.14)\n",
    "clf = DecisionTreeClassifier()\n",
    "# clf.fit(X_train, Y_train)"
   ]
  },
  {
   "cell_type": "code",
   "execution_count": 7,
   "id": "7054973f",
   "metadata": {},
   "outputs": [
    {
     "name": "stderr",
     "output_type": "stream",
     "text": [
      "C:\\Users\\harsh\\AppData\\Local\\Programs\\Python\\Python311\\Lib\\site-packages\\sklearn\\model_selection\\_validation.py:378: FitFailedWarning: \n",
      "90 fits failed out of a total of 360.\n",
      "The score on these train-test partitions for these parameters will be set to nan.\n",
      "If these failures are not expected, you can try to debug them by setting error_score='raise'.\n",
      "\n",
      "Below are more details about the failures:\n",
      "--------------------------------------------------------------------------------\n",
      "90 fits failed with the following error:\n",
      "Traceback (most recent call last):\n",
      "  File \"C:\\Users\\harsh\\AppData\\Local\\Programs\\Python\\Python311\\Lib\\site-packages\\sklearn\\model_selection\\_validation.py\", line 686, in _fit_and_score\n",
      "    estimator.fit(X_train, y_train, **fit_params)\n",
      "  File \"C:\\Users\\harsh\\AppData\\Local\\Programs\\Python\\Python311\\Lib\\site-packages\\sklearn\\tree\\_classes.py\", line 889, in fit\n",
      "    super().fit(\n",
      "  File \"C:\\Users\\harsh\\AppData\\Local\\Programs\\Python\\Python311\\Lib\\site-packages\\sklearn\\tree\\_classes.py\", line 177, in fit\n",
      "    self._validate_params()\n",
      "  File \"C:\\Users\\harsh\\AppData\\Local\\Programs\\Python\\Python311\\Lib\\site-packages\\sklearn\\base.py\", line 581, in _validate_params\n",
      "    validate_parameter_constraints(\n",
      "  File \"C:\\Users\\harsh\\AppData\\Local\\Programs\\Python\\Python311\\Lib\\site-packages\\sklearn\\utils\\_param_validation.py\", line 97, in validate_parameter_constraints\n",
      "    raise InvalidParameterError(\n",
      "sklearn.utils._param_validation.InvalidParameterError: The 'min_samples_split' parameter of DecisionTreeClassifier must be an int in the range [2, inf) or a float in the range (0.0, 1.0]. Got None instead.\n",
      "\n",
      "  warnings.warn(some_fits_failed_message, FitFailedWarning)\n",
      "C:\\Users\\harsh\\AppData\\Local\\Programs\\Python\\Python311\\Lib\\site-packages\\sklearn\\model_selection\\_search.py:952: UserWarning: One or more of the test scores are non-finite: [0.87006662 0.88830356 0.89329149        nan 0.87508971 0.88961615\n",
      " 0.89390413        nan 0.85989813 0.88266794 0.88940619        nan\n",
      " 0.86980412 0.88755094 0.89260899        nan 0.87414455 0.89045627\n",
      " 0.89404409        nan 0.86086071 0.88280795 0.88935367        nan\n",
      " 0.87004921 0.88849602 0.8937991         nan 0.87500213 0.88980867\n",
      " 0.89469165        nan 0.8605632  0.88287795 0.88921367        nan\n",
      " 0.86597132 0.88651833 0.89299402        nan 0.86801891 0.88835606\n",
      " 0.89374657        nan 0.85631023 0.88126778 0.88781342        nan\n",
      " 0.86693388 0.88697342 0.89250403        nan 0.86633881 0.88839104\n",
      " 0.892539          nan 0.85562766 0.88093522 0.88763841        nan\n",
      " 0.86800141 0.8854508  0.89105128        nan 0.86906904 0.88931862\n",
      " 0.8935716         nan 0.85571514 0.88088272 0.88753339        nan]\n",
      "  warnings.warn(\n"
     ]
    },
    {
     "name": "stdout",
     "output_type": "stream",
     "text": [
      "Time for Grid Parameters  43.40403866767883\n",
      "{'criterion': 'gini', 'max_depth': None, 'max_features': 'log2', 'min_samples_split': 70}\n",
      "0.8946916493457472\n"
     ]
    }
   ],
   "source": [
    "x_time = time.time()\n",
    "param_grid = {\n",
    "    'criterion': ['gini', 'entropy'],\n",
    "    'max_depth': [ 40, 50, None],\n",
    "    'min_samples_split': [20, 50, 70, None],\n",
    "    'max_features': ['sqrt', 'log2', None]\n",
    "}\n",
    "\n",
    "gs = GridSearchCV( clf, param_grid, cv=5, n_jobs=-1 )\n",
    "gs.fit(X_train, Y_train)\n",
    "\n",
    "y_time = time.time()\n",
    "print(\"Time for Grid Parameters \",  y_time-x_time)\n",
    "\n",
    "print(gs.best_params_)\n",
    "print(gs.best_score_)"
   ]
  },
  {
   "cell_type": "code",
   "execution_count": 8,
   "id": "a71c8b51",
   "metadata": {},
   "outputs": [
    {
     "data": {
      "text/html": [
       "<style>#sk-container-id-1 {color: black;background-color: white;}#sk-container-id-1 pre{padding: 0;}#sk-container-id-1 div.sk-toggleable {background-color: white;}#sk-container-id-1 label.sk-toggleable__label {cursor: pointer;display: block;width: 100%;margin-bottom: 0;padding: 0.3em;box-sizing: border-box;text-align: center;}#sk-container-id-1 label.sk-toggleable__label-arrow:before {content: \"▸\";float: left;margin-right: 0.25em;color: #696969;}#sk-container-id-1 label.sk-toggleable__label-arrow:hover:before {color: black;}#sk-container-id-1 div.sk-estimator:hover label.sk-toggleable__label-arrow:before {color: black;}#sk-container-id-1 div.sk-toggleable__content {max-height: 0;max-width: 0;overflow: hidden;text-align: left;background-color: #f0f8ff;}#sk-container-id-1 div.sk-toggleable__content pre {margin: 0.2em;color: black;border-radius: 0.25em;background-color: #f0f8ff;}#sk-container-id-1 input.sk-toggleable__control:checked~div.sk-toggleable__content {max-height: 200px;max-width: 100%;overflow: auto;}#sk-container-id-1 input.sk-toggleable__control:checked~label.sk-toggleable__label-arrow:before {content: \"▾\";}#sk-container-id-1 div.sk-estimator input.sk-toggleable__control:checked~label.sk-toggleable__label {background-color: #d4ebff;}#sk-container-id-1 div.sk-label input.sk-toggleable__control:checked~label.sk-toggleable__label {background-color: #d4ebff;}#sk-container-id-1 input.sk-hidden--visually {border: 0;clip: rect(1px 1px 1px 1px);clip: rect(1px, 1px, 1px, 1px);height: 1px;margin: -1px;overflow: hidden;padding: 0;position: absolute;width: 1px;}#sk-container-id-1 div.sk-estimator {font-family: monospace;background-color: #f0f8ff;border: 1px dotted black;border-radius: 0.25em;box-sizing: border-box;margin-bottom: 0.5em;}#sk-container-id-1 div.sk-estimator:hover {background-color: #d4ebff;}#sk-container-id-1 div.sk-parallel-item::after {content: \"\";width: 100%;border-bottom: 1px solid gray;flex-grow: 1;}#sk-container-id-1 div.sk-label:hover label.sk-toggleable__label {background-color: #d4ebff;}#sk-container-id-1 div.sk-serial::before {content: \"\";position: absolute;border-left: 1px solid gray;box-sizing: border-box;top: 0;bottom: 0;left: 50%;z-index: 0;}#sk-container-id-1 div.sk-serial {display: flex;flex-direction: column;align-items: center;background-color: white;padding-right: 0.2em;padding-left: 0.2em;position: relative;}#sk-container-id-1 div.sk-item {position: relative;z-index: 1;}#sk-container-id-1 div.sk-parallel {display: flex;align-items: stretch;justify-content: center;background-color: white;position: relative;}#sk-container-id-1 div.sk-item::before, #sk-container-id-1 div.sk-parallel-item::before {content: \"\";position: absolute;border-left: 1px solid gray;box-sizing: border-box;top: 0;bottom: 0;left: 50%;z-index: -1;}#sk-container-id-1 div.sk-parallel-item {display: flex;flex-direction: column;z-index: 1;position: relative;background-color: white;}#sk-container-id-1 div.sk-parallel-item:first-child::after {align-self: flex-end;width: 50%;}#sk-container-id-1 div.sk-parallel-item:last-child::after {align-self: flex-start;width: 50%;}#sk-container-id-1 div.sk-parallel-item:only-child::after {width: 0;}#sk-container-id-1 div.sk-dashed-wrapped {border: 1px dashed gray;margin: 0 0.4em 0.5em 0.4em;box-sizing: border-box;padding-bottom: 0.4em;background-color: white;}#sk-container-id-1 div.sk-label label {font-family: monospace;font-weight: bold;display: inline-block;line-height: 1.2em;}#sk-container-id-1 div.sk-label-container {text-align: center;}#sk-container-id-1 div.sk-container {/* jupyter's `normalize.less` sets `[hidden] { display: none; }` but bootstrap.min.css set `[hidden] { display: none !important; }` so we also need the `!important` here to be able to override the default hidden behavior on the sphinx rendered scikit-learn.org. See: https://github.com/scikit-learn/scikit-learn/issues/21755 */display: inline-block !important;position: relative;}#sk-container-id-1 div.sk-text-repr-fallback {display: none;}</style><div id=\"sk-container-id-1\" class=\"sk-top-container\"><div class=\"sk-text-repr-fallback\"><pre>DecisionTreeClassifier(max_features=&#x27;log2&#x27;, min_samples_split=70)</pre><b>In a Jupyter environment, please rerun this cell to show the HTML representation or trust the notebook. <br />On GitHub, the HTML representation is unable to render, please try loading this page with nbviewer.org.</b></div><div class=\"sk-container\" hidden><div class=\"sk-item\"><div class=\"sk-estimator sk-toggleable\"><input class=\"sk-toggleable__control sk-hidden--visually\" id=\"sk-estimator-id-1\" type=\"checkbox\" checked><label for=\"sk-estimator-id-1\" class=\"sk-toggleable__label sk-toggleable__label-arrow\">DecisionTreeClassifier</label><div class=\"sk-toggleable__content\"><pre>DecisionTreeClassifier(max_features=&#x27;log2&#x27;, min_samples_split=70)</pre></div></div></div></div></div>"
      ],
      "text/plain": [
       "DecisionTreeClassifier(max_features='log2', min_samples_split=70)"
      ]
     },
     "execution_count": 8,
     "metadata": {},
     "output_type": "execute_result"
    }
   ],
   "source": [
    "clf_best = DecisionTreeClassifier(**gs.best_params_)\n",
    "clf_best.fit(X_train, Y_train)"
   ]
  },
  {
   "cell_type": "code",
   "execution_count": 9,
   "id": "ec004a5f",
   "metadata": {},
   "outputs": [
    {
     "name": "stdout",
     "output_type": "stream",
     "text": [
      "Accuracy Score on train data:  0.9132786110576334\n",
      "Accuracy Score on test data:  0.8874435605246184\n"
     ]
    }
   ],
   "source": [
    "Y_pred = clf_best.predict( X_test )\n",
    "print('Accuracy Score on train data: ', accuracy_score(y_true=Y_train, y_pred=clf_best.predict(X_train)))\n",
    "print('Accuracy Score on test data: ', accuracy_score(y_true=Y_test, y_pred=Y_pred))"
   ]
  },
  {
   "cell_type": "code",
   "execution_count": 10,
   "id": "67ea196e",
   "metadata": {},
   "outputs": [
    {
     "name": "stdout",
     "output_type": "stream",
     "text": [
      "For the Test Cases : \n",
      "F1 Score:  0.496328348691677\n",
      "Confusion Matrix:\n",
      "[[8226  147]\n",
      " [ 900   29]]\n"
     ]
    }
   ],
   "source": [
    "print(\"For the Test Cases : \")\n",
    "f1score = f1_score(Y_test, Y_pred, average='macro')\n",
    "print(\"F1 Score: \", f1score)\n",
    "cm = confusion_matrix(Y_test, Y_pred)\n",
    "print(\"Confusion Matrix:\")\n",
    "print(cm)"
   ]
  }
 ],
 "metadata": {
  "kernelspec": {
   "display_name": "Python 3 (ipykernel)",
   "language": "python",
   "name": "python3"
  },
  "language_info": {
   "codemirror_mode": {
    "name": "ipython",
    "version": 3
   },
   "file_extension": ".py",
   "mimetype": "text/x-python",
   "name": "python",
   "nbconvert_exporter": "python",
   "pygments_lexer": "ipython3",
   "version": "3.11.2"
  }
 },
 "nbformat": 4,
 "nbformat_minor": 5
}
