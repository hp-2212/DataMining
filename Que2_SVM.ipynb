{
 "cells": [
  {
   "cell_type": "code",
   "execution_count": 1,
   "id": "34c0e1cf",
   "metadata": {},
   "outputs": [
    {
     "name": "stderr",
     "output_type": "stream",
     "text": [
      "C:\\Users\\harsh\\AppData\\Local\\Programs\\Python\\Python311\\Lib\\site-packages\\sklearn\\datasets\\_openml.py:932: FutureWarning: The default value of `parser` will change from `'liac-arff'` to `'auto'` in 1.4. You can set `parser='auto'` to silence this warning. Therefore, an `ImportError` will be raised from 1.4 if the dataset is dense and pandas is not installed. Note that the pandas parser may return different data types. See the Notes Section in fetch_openml's API doc for details.\n",
      "  warn(\n"
     ]
    }
   ],
   "source": [
    "import pandas as pd\n",
    "import numpy as np\n",
    "from sklearn import svm\n",
    "from sklearn.model_selection import GridSearchCV\n",
    "from sklearn.model_selection import train_test_split\n",
    "from sklearn.metrics import accuracy_score\n",
    "from sklearn.metrics import f1_score\n",
    "from sklearn.metrics import confusion_matrix\n",
    "import time\n",
    "\n",
    "from sklearn.datasets import fetch_openml\n",
    "mnist = fetch_openml('mnist_784')"
   ]
  },
  {
   "cell_type": "code",
   "execution_count": 2,
   "id": "c967be06",
   "metadata": {
    "scrolled": true
   },
   "outputs": [
    {
     "name": "stdout",
     "output_type": "stream",
     "text": [
      "number of examples : 70000\n"
     ]
    }
   ],
   "source": [
    "X = mnist.data\n",
    "Y = mnist.target\n",
    "print('number of examples :', X.shape[0])"
   ]
  },
  {
   "cell_type": "code",
   "execution_count": 3,
   "id": "91ba0a95",
   "metadata": {},
   "outputs": [
    {
     "name": "stdout",
     "output_type": "stream",
     "text": [
      "Time in (sec) 0.1770164966583252\n"
     ]
    }
   ],
   "source": [
    "x_time = time.time()\n",
    "# Since the Sample Size is too big and SVMs take a long time to be trained, hence we are using only a small size of the sample. \n",
    "X_train, X_test, Y_train, Y_test = train_test_split(X, Y, random_state = 40, train_size = 0.3, test_size = 0.01)\n",
    "clf = svm.SVC()\n",
    "# clf.fit(X_train, Y_train)\n",
    "y_time = time.time()\n",
    "print(\"Time in (sec)\", y_time-x_time)"
   ]
  },
  {
   "cell_type": "code",
   "execution_count": 4,
   "id": "10f833df",
   "metadata": {},
   "outputs": [
    {
     "name": "stdout",
     "output_type": "stream",
     "text": [
      "Time in (min) 2.8219338496526083\n",
      "Best Hyperparameters :  {'kernel': 'rbf'}\n",
      "Best score :  0.9614761904761905\n"
     ]
    }
   ],
   "source": [
    "param_grid = {\n",
    "    'kernel' : [ 'linear', 'poly', 'rbf', 'sigmoid' ]\n",
    "}\n",
    "\n",
    "x_time = time.time()\n",
    "gs = GridSearchCV( clf, param_grid=param_grid, cv=2, n_jobs=3 )\n",
    "gs.fit(X_train, Y_train)\n",
    "y_time = time.time()\n",
    "print(\"Time in (min)\", (y_time-x_time)/60)\n",
    "\n",
    "print('Best Hyperparameters : ', gs.best_params_)\n",
    "print('Best score : ', gs.best_score_)"
   ]
  },
  {
   "cell_type": "code",
   "execution_count": 5,
   "id": "e90cdee8",
   "metadata": {},
   "outputs": [
    {
     "data": {
      "text/html": [
       "<style>#sk-container-id-1 {color: black;background-color: white;}#sk-container-id-1 pre{padding: 0;}#sk-container-id-1 div.sk-toggleable {background-color: white;}#sk-container-id-1 label.sk-toggleable__label {cursor: pointer;display: block;width: 100%;margin-bottom: 0;padding: 0.3em;box-sizing: border-box;text-align: center;}#sk-container-id-1 label.sk-toggleable__label-arrow:before {content: \"▸\";float: left;margin-right: 0.25em;color: #696969;}#sk-container-id-1 label.sk-toggleable__label-arrow:hover:before {color: black;}#sk-container-id-1 div.sk-estimator:hover label.sk-toggleable__label-arrow:before {color: black;}#sk-container-id-1 div.sk-toggleable__content {max-height: 0;max-width: 0;overflow: hidden;text-align: left;background-color: #f0f8ff;}#sk-container-id-1 div.sk-toggleable__content pre {margin: 0.2em;color: black;border-radius: 0.25em;background-color: #f0f8ff;}#sk-container-id-1 input.sk-toggleable__control:checked~div.sk-toggleable__content {max-height: 200px;max-width: 100%;overflow: auto;}#sk-container-id-1 input.sk-toggleable__control:checked~label.sk-toggleable__label-arrow:before {content: \"▾\";}#sk-container-id-1 div.sk-estimator input.sk-toggleable__control:checked~label.sk-toggleable__label {background-color: #d4ebff;}#sk-container-id-1 div.sk-label input.sk-toggleable__control:checked~label.sk-toggleable__label {background-color: #d4ebff;}#sk-container-id-1 input.sk-hidden--visually {border: 0;clip: rect(1px 1px 1px 1px);clip: rect(1px, 1px, 1px, 1px);height: 1px;margin: -1px;overflow: hidden;padding: 0;position: absolute;width: 1px;}#sk-container-id-1 div.sk-estimator {font-family: monospace;background-color: #f0f8ff;border: 1px dotted black;border-radius: 0.25em;box-sizing: border-box;margin-bottom: 0.5em;}#sk-container-id-1 div.sk-estimator:hover {background-color: #d4ebff;}#sk-container-id-1 div.sk-parallel-item::after {content: \"\";width: 100%;border-bottom: 1px solid gray;flex-grow: 1;}#sk-container-id-1 div.sk-label:hover label.sk-toggleable__label {background-color: #d4ebff;}#sk-container-id-1 div.sk-serial::before {content: \"\";position: absolute;border-left: 1px solid gray;box-sizing: border-box;top: 0;bottom: 0;left: 50%;z-index: 0;}#sk-container-id-1 div.sk-serial {display: flex;flex-direction: column;align-items: center;background-color: white;padding-right: 0.2em;padding-left: 0.2em;position: relative;}#sk-container-id-1 div.sk-item {position: relative;z-index: 1;}#sk-container-id-1 div.sk-parallel {display: flex;align-items: stretch;justify-content: center;background-color: white;position: relative;}#sk-container-id-1 div.sk-item::before, #sk-container-id-1 div.sk-parallel-item::before {content: \"\";position: absolute;border-left: 1px solid gray;box-sizing: border-box;top: 0;bottom: 0;left: 50%;z-index: -1;}#sk-container-id-1 div.sk-parallel-item {display: flex;flex-direction: column;z-index: 1;position: relative;background-color: white;}#sk-container-id-1 div.sk-parallel-item:first-child::after {align-self: flex-end;width: 50%;}#sk-container-id-1 div.sk-parallel-item:last-child::after {align-self: flex-start;width: 50%;}#sk-container-id-1 div.sk-parallel-item:only-child::after {width: 0;}#sk-container-id-1 div.sk-dashed-wrapped {border: 1px dashed gray;margin: 0 0.4em 0.5em 0.4em;box-sizing: border-box;padding-bottom: 0.4em;background-color: white;}#sk-container-id-1 div.sk-label label {font-family: monospace;font-weight: bold;display: inline-block;line-height: 1.2em;}#sk-container-id-1 div.sk-label-container {text-align: center;}#sk-container-id-1 div.sk-container {/* jupyter's `normalize.less` sets `[hidden] { display: none; }` but bootstrap.min.css set `[hidden] { display: none !important; }` so we also need the `!important` here to be able to override the default hidden behavior on the sphinx rendered scikit-learn.org. See: https://github.com/scikit-learn/scikit-learn/issues/21755 */display: inline-block !important;position: relative;}#sk-container-id-1 div.sk-text-repr-fallback {display: none;}</style><div id=\"sk-container-id-1\" class=\"sk-top-container\"><div class=\"sk-text-repr-fallback\"><pre>SVC()</pre><b>In a Jupyter environment, please rerun this cell to show the HTML representation or trust the notebook. <br />On GitHub, the HTML representation is unable to render, please try loading this page with nbviewer.org.</b></div><div class=\"sk-container\" hidden><div class=\"sk-item\"><div class=\"sk-estimator sk-toggleable\"><input class=\"sk-toggleable__control sk-hidden--visually\" id=\"sk-estimator-id-1\" type=\"checkbox\" checked><label for=\"sk-estimator-id-1\" class=\"sk-toggleable__label sk-toggleable__label-arrow\">SVC</label><div class=\"sk-toggleable__content\"><pre>SVC()</pre></div></div></div></div></div>"
      ],
      "text/plain": [
       "SVC()"
      ]
     },
     "execution_count": 5,
     "metadata": {},
     "output_type": "execute_result"
    }
   ],
   "source": [
    "clf_best = svm.SVC(**gs.best_params_)\n",
    "clf_best.fit(X_train, Y_train) "
   ]
  },
  {
   "cell_type": "code",
   "execution_count": 6,
   "id": "77b6fa0b",
   "metadata": {},
   "outputs": [
    {
     "name": "stdout",
     "output_type": "stream",
     "text": [
      "Time in (sec) 272.40338945388794\n",
      "Accuracy Score on train data:  0.9871428571428571\n",
      "Accuracy Score on test data:  0.9728571428571429\n"
     ]
    }
   ],
   "source": [
    "x_time = time.time()\n",
    "Y_pred_train = clf_best.predict( X_train )\n",
    "Y_pred_test = clf_best.predict( X_test )\n",
    "y_time = time.time()\n",
    "print(\"Time in (sec)\", y_time-x_time)\n",
    "print('Accuracy Score on train data: ', accuracy_score(y_true=Y_train, y_pred=Y_pred_train))\n",
    "print('Accuracy Score on test data: ', accuracy_score(y_true=Y_test, y_pred=Y_pred_test))"
   ]
  },
  {
   "cell_type": "code",
   "execution_count": 8,
   "id": "ef789cc6",
   "metadata": {},
   "outputs": [
    {
     "name": "stdout",
     "output_type": "stream",
     "text": [
      "For the Test Cases : \n",
      "F1 Score:  0.9727005260105779\n",
      "Confusion Matrix:\n",
      "[[76  0  1  0  0  0  0  0  0  0]\n",
      " [ 0 74  1  0  0  0  0  0  0  1]\n",
      " [ 0  1 70  0  0  0  0  0  0  0]\n",
      " [ 0  0  1 75  0  0  0  1  1  0]\n",
      " [ 0  0  0  0 73  0  0  0  0  1]\n",
      " [ 0  0  0  0  0 59  2  0  0  0]\n",
      " [ 1  0  0  0  0  0 69  0  0  0]\n",
      " [ 0  0  0  0  0  0  0 64  0  2]\n",
      " [ 0  1  0  0  0  0  0  0 56  1]\n",
      " [ 0  0  0  1  2  1  0  0  0 65]]\n"
     ]
    }
   ],
   "source": [
    "print(\"For the Test Cases : \")\n",
    "f1score = f1_score(Y_test, Y_pred_test, average='macro')\n",
    "print(\"F1 Score: \", f1score)\n",
    "cm = confusion_matrix(Y_test, Y_pred_test)\n",
    "print(\"Confusion Matrix:\")\n",
    "print(cm)"
   ]
  },
  {
   "cell_type": "code",
   "execution_count": null,
   "id": "fef88a73",
   "metadata": {},
   "outputs": [],
   "source": []
  }
 ],
 "metadata": {
  "kernelspec": {
   "display_name": "Python 3 (ipykernel)",
   "language": "python",
   "name": "python3"
  },
  "language_info": {
   "codemirror_mode": {
    "name": "ipython",
    "version": 3
   },
   "file_extension": ".py",
   "mimetype": "text/x-python",
   "name": "python",
   "nbconvert_exporter": "python",
   "pygments_lexer": "ipython3",
   "version": "3.11.2"
  }
 },
 "nbformat": 4,
 "nbformat_minor": 5
}
