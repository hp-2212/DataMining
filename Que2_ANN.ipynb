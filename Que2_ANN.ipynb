{
 "cells": [
  {
   "cell_type": "code",
   "execution_count": 1,
   "id": "c87a60aa",
   "metadata": {},
   "outputs": [],
   "source": [
    "import pandas as pd\n",
    "import numpy as np\n",
    "from sklearn.neural_network import MLPClassifier\n",
    "from sklearn.model_selection import GridSearchCV\n",
    "from sklearn.model_selection import train_test_split\n",
    "from sklearn.metrics import accuracy_score\n",
    "from sklearn.metrics import f1_score\n",
    "from sklearn.metrics import confusion_matrix\n",
    "import time"
   ]
  },
  {
   "cell_type": "code",
   "execution_count": 2,
   "id": "3bb60649",
   "metadata": {},
   "outputs": [
    {
     "name": "stderr",
     "output_type": "stream",
     "text": [
      "C:\\Users\\harsh\\AppData\\Local\\Programs\\Python\\Python311\\Lib\\site-packages\\sklearn\\datasets\\_openml.py:932: FutureWarning: The default value of `parser` will change from `'liac-arff'` to `'auto'` in 1.4. You can set `parser='auto'` to silence this warning. Therefore, an `ImportError` will be raised from 1.4 if the dataset is dense and pandas is not installed. Note that the pandas parser may return different data types. See the Notes Section in fetch_openml's API doc for details.\n",
      "  warn(\n"
     ]
    }
   ],
   "source": [
    "from sklearn.datasets import fetch_openml\n",
    "mnist = fetch_openml('mnist_784')"
   ]
  },
  {
   "cell_type": "code",
   "execution_count": 3,
   "id": "f78a1630",
   "metadata": {},
   "outputs": [
    {
     "name": "stdout",
     "output_type": "stream",
     "text": [
      "number of examples : 70000\n"
     ]
    }
   ],
   "source": [
    "X = mnist.data\n",
    "Y = mnist.target\n",
    "print('number of examples :', X.shape[0])"
   ]
  },
  {
   "cell_type": "code",
   "execution_count": 4,
   "id": "c47f1a3d",
   "metadata": {},
   "outputs": [],
   "source": [
    "# x_time = time.time()\n",
    "X_train, X_test, Y_train, Y_test = train_test_split(X, Y, random_state = 40, test_size = 0.14)\n",
    "clf = MLPClassifier()\n",
    "# y_time = time.time()\n",
    "# print(y_time-x_time)"
   ]
  },
  {
   "cell_type": "code",
   "execution_count": 5,
   "id": "4af8d559",
   "metadata": {},
   "outputs": [
    {
     "name": "stdout",
     "output_type": "stream",
     "text": [
      "Time in (min) 30.94943500359853\n",
      "Best Hyperparameters :  {'activation': 'logistic', 'hidden_layer_sizes': (100, 100)}\n",
      "Best score :  0.9588863284579823\n"
     ]
    }
   ],
   "source": [
    "x_time = time.time()\n",
    "param_grid = {\n",
    "    'hidden_layer_sizes': [(10,), (50,), (100,), (10, 10), (50, 50), (100, 100)],\n",
    "    'activation': ['logistic']\n",
    "}\n",
    "\n",
    "gs = GridSearchCV( clf, param_grid=param_grid, cv=5, n_jobs=-1 )\n",
    "gs.fit(X_train, Y_train)\n",
    "\n",
    "y_time = time.time()\n",
    "print(\"Time in (min)\", (y_time-x_time)/60)\n",
    "\n",
    "print('Best Hyperparameters : ', gs.best_params_)\n",
    "print('Best score : ', gs.best_score_)"
   ]
  },
  {
   "cell_type": "code",
   "execution_count": null,
   "id": "53d1248a",
   "metadata": {},
   "outputs": [],
   "source": [
    "clf_best = MLPClassifier(**gs.best_params_)\n",
    "clf_best.fit(X_train, Y_train) "
   ]
  },
  {
   "cell_type": "code",
   "execution_count": 7,
   "id": "9ae63624",
   "metadata": {},
   "outputs": [
    {
     "name": "stdout",
     "output_type": "stream",
     "text": [
      "Accuracy Score on train data:  0.976793634445755\n",
      "Accuracy Score on test data:  0.9655137230894807\n"
     ]
    }
   ],
   "source": [
    "Y_pred_train = clf_best.predict( X_train )\n",
    "Y_pred_test = clf_best.predict( X_test )\n",
    "print('Accuracy Score on train data: ', accuracy_score(y_true=Y_train, y_pred=Y_pred_train))\n",
    "print('Accuracy Score on test data: ', accuracy_score(y_true=Y_test, y_pred=Y_pred_test))"
   ]
  },
  {
   "cell_type": "code",
   "execution_count": 10,
   "id": "33c19c17",
   "metadata": {},
   "outputs": [
    {
     "name": "stdout",
     "output_type": "stream",
     "text": [
      "For the Test Cases : \n",
      "F1 Score:  0.9650831865463741\n",
      "Confusion Matrix:\n",
      "[[ 967    1    2    0    0    2    3    0    0    1]\n",
      " [   0 1069    2    2    1    1    0    1    2    0]\n",
      " [   7    1  973    6    2    1    3    5    5    2]\n",
      " [   1    2    9  986    0   19    0    5   12    5]\n",
      " [   2    3    3    1  938    1    4    4    1    9]\n",
      " [   4    3    1   15    2  809    7    1    3    7]\n",
      " [   7    3    1    0    2    4  914    0    4    0]\n",
      " [   2    1    7    0    7    1    0  996    1   12]\n",
      " [   8    4    5    9    5   11    1    2  914   10]\n",
      " [   3    3    1    8   12    5    0   18    7  897]]\n"
     ]
    }
   ],
   "source": [
    "print(\"For the Test Cases : \")\n",
    "f1score = f1_score(Y_test, Y_pred_test, average='macro')\n",
    "print(\"F1 Score: \", f1score)\n",
    "cm = confusion_matrix(Y_test, Y_pred_test)\n",
    "print(\"Confusion Matrix:\")\n",
    "print(cm)"
   ]
  },
  {
   "cell_type": "code",
   "execution_count": null,
   "id": "be5c8068",
   "metadata": {},
   "outputs": [],
   "source": []
  }
 ],
 "metadata": {
  "kernelspec": {
   "display_name": "Python 3 (ipykernel)",
   "language": "python",
   "name": "python3"
  },
  "language_info": {
   "codemirror_mode": {
    "name": "ipython",
    "version": 3
   },
   "file_extension": ".py",
   "mimetype": "text/x-python",
   "name": "python",
   "nbconvert_exporter": "python",
   "pygments_lexer": "ipython3",
   "version": "3.11.2"
  }
 },
 "nbformat": 4,
 "nbformat_minor": 5
}
