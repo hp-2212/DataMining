{
 "cells": [
  {
   "cell_type": "code",
   "execution_count": 1,
   "id": "3581744c",
   "metadata": {},
   "outputs": [],
   "source": [
    "import pandas as pd\n",
    "import numpy as np\n",
    "from sklearn import svm\n",
    "from sklearn.model_selection import GridSearchCV\n",
    "from sklearn.model_selection import train_test_split\n",
    "from sklearn.metrics import accuracy_score\n",
    "from sklearn.preprocessing import LabelEncoder\n",
    "from pandas.api.types import CategoricalDtype\n",
    "from sklearn.metrics import f1_score\n",
    "from sklearn.metrics import confusion_matrix\n",
    "import time"
   ]
  },
  {
   "cell_type": "code",
   "execution_count": 2,
   "id": "bd24f4e4",
   "metadata": {},
   "outputs": [],
   "source": [
    "data = pd.read_csv('car_kick.csv')\n",
    "# Deleting Unwanted Columns of Data\n",
    "data = data.drop(['PurchDate','Color', 'VNZIP1'], axis=1)\n",
    "\n",
    "# Deleting Missing Values\n",
    "data = data[data['MMRAcquisitionAuctionAveragePrice']!=0]\n",
    "data = data[data['MMRAcquisitionAuctionCleanPrice']!=0]\n",
    "data = data[data['MMRAcquisitionRetailAveragePrice']!=0]\n",
    "data = data[data['MMRAcquisitonRetailCleanPrice']!=0]\n",
    "\n",
    "X = data.iloc[:, :data.shape[1]-1]\n",
    "Y = data.iloc[:, data.shape[1]-1]"
   ]
  },
  {
   "cell_type": "code",
   "execution_count": 3,
   "id": "d605d708",
   "metadata": {},
   "outputs": [],
   "source": [
    "# Name of Data Attributes\n",
    "N = np.array(X.columns)\n",
    "# print(N)\n",
    "\n",
    "encoder = LabelEncoder()\n",
    "\n",
    "for i in range(len(N)):\n",
    "    if type(X.loc[0, N[i]]) == str :\n",
    "        X[N[i]] = encoder.fit_transform(X[N[i]])\n",
    "\n",
    "# Normailising the Data\n",
    "for i in range(len(N)):\n",
    "    X[N[i]] = ( ( X[N[i]] - X[N[i]].min() ) /  (X[N[i]].max() - X[N[i]].min()))"
   ]
  },
  {
   "cell_type": "code",
   "execution_count": 4,
   "id": "295f18cf",
   "metadata": {},
   "outputs": [],
   "source": [
    "# Classifying Attributes as Ordinal and Nominal\n",
    "# Classifying Attributes as Ordinal and Nominal\n",
    "X['Auction'] = X['Auction'].astype(CategoricalDtype(ordered=False))\n",
    "X['Make'] = X['Make'].astype(CategoricalDtype(ordered=False))\n",
    "X['Model'] = X['Model'].astype(CategoricalDtype(ordered=False))\n",
    "X['Trim'] = X['Trim'].astype(CategoricalDtype(ordered=False))\n",
    "X['SubModel'] = X['SubModel'].astype(CategoricalDtype(ordered=False))\n",
    "X['Transmission'] = X['Transmission'].astype(CategoricalDtype(ordered=False))\n",
    "X['WheelTypeID'] = X['WheelTypeID'].astype(CategoricalDtype(ordered=False))\n",
    "X['WheelType'] = X['WheelType'].astype(CategoricalDtype(ordered=False))\n",
    "X['Nationality'] = X['Nationality'].astype(CategoricalDtype(ordered=False))\n",
    "X['TopThreeAmericanName'] = X['TopThreeAmericanName'].astype(CategoricalDtype(ordered=False))\n",
    "X['BYRNO'] = X['BYRNO'].astype(CategoricalDtype(ordered=False))\n",
    "X['VNST'] = X['VNST'].astype(CategoricalDtype(ordered=False))"
   ]
  },
  {
   "cell_type": "code",
   "execution_count": 5,
   "id": "ca5554e5",
   "metadata": {},
   "outputs": [
    {
     "name": "stdout",
     "output_type": "stream",
     "text": [
      "Time in (sec) 0.030383586883544922\n"
     ]
    }
   ],
   "source": [
    "x_time = time.time()\n",
    "X_train, X_test, Y_train, Y_test = train_test_split(X, Y, random_state = 40, train_size = 0.5, test_size = 0.14)\n",
    "clf = svm.SVC()\n",
    "# clf.fit(X_train, Y_train)\n",
    "y_time = time.time()\n",
    "print(\"Time in (sec)\", y_time-x_time)"
   ]
  },
  {
   "cell_type": "code",
   "execution_count": 6,
   "id": "7a0581c1",
   "metadata": {},
   "outputs": [
    {
     "name": "stdout",
     "output_type": "stream",
     "text": [
      "Time in (min) 39.6043678800265\n",
      "Best Hyperparameters :  {'kernel': 'poly'}\n",
      "Best score :  0.9048737167625873\n"
     ]
    }
   ],
   "source": [
    "param_grid = {\n",
    "    'kernel' : [ 'linear', 'poly', 'rbf', 'sigmoid' ]\n",
    "}\n",
    "\n",
    "x_time = time.time()\n",
    "gs = GridSearchCV( clf, param_grid=param_grid, cv=2, n_jobs=3 )\n",
    "gs.fit(X_train, Y_train)\n",
    "y_time = time.time()\n",
    "print(\"Time in (min)\", (y_time-x_time)/60)\n",
    "\n",
    "print('Best Hyperparameters : ', gs.best_params_)\n",
    "print('Best score : ', gs.best_score_)"
   ]
  },
  {
   "cell_type": "code",
   "execution_count": 7,
   "id": "22a42ac6",
   "metadata": {},
   "outputs": [
    {
     "data": {
      "text/html": [
       "<style>#sk-container-id-1 {color: black;background-color: white;}#sk-container-id-1 pre{padding: 0;}#sk-container-id-1 div.sk-toggleable {background-color: white;}#sk-container-id-1 label.sk-toggleable__label {cursor: pointer;display: block;width: 100%;margin-bottom: 0;padding: 0.3em;box-sizing: border-box;text-align: center;}#sk-container-id-1 label.sk-toggleable__label-arrow:before {content: \"▸\";float: left;margin-right: 0.25em;color: #696969;}#sk-container-id-1 label.sk-toggleable__label-arrow:hover:before {color: black;}#sk-container-id-1 div.sk-estimator:hover label.sk-toggleable__label-arrow:before {color: black;}#sk-container-id-1 div.sk-toggleable__content {max-height: 0;max-width: 0;overflow: hidden;text-align: left;background-color: #f0f8ff;}#sk-container-id-1 div.sk-toggleable__content pre {margin: 0.2em;color: black;border-radius: 0.25em;background-color: #f0f8ff;}#sk-container-id-1 input.sk-toggleable__control:checked~div.sk-toggleable__content {max-height: 200px;max-width: 100%;overflow: auto;}#sk-container-id-1 input.sk-toggleable__control:checked~label.sk-toggleable__label-arrow:before {content: \"▾\";}#sk-container-id-1 div.sk-estimator input.sk-toggleable__control:checked~label.sk-toggleable__label {background-color: #d4ebff;}#sk-container-id-1 div.sk-label input.sk-toggleable__control:checked~label.sk-toggleable__label {background-color: #d4ebff;}#sk-container-id-1 input.sk-hidden--visually {border: 0;clip: rect(1px 1px 1px 1px);clip: rect(1px, 1px, 1px, 1px);height: 1px;margin: -1px;overflow: hidden;padding: 0;position: absolute;width: 1px;}#sk-container-id-1 div.sk-estimator {font-family: monospace;background-color: #f0f8ff;border: 1px dotted black;border-radius: 0.25em;box-sizing: border-box;margin-bottom: 0.5em;}#sk-container-id-1 div.sk-estimator:hover {background-color: #d4ebff;}#sk-container-id-1 div.sk-parallel-item::after {content: \"\";width: 100%;border-bottom: 1px solid gray;flex-grow: 1;}#sk-container-id-1 div.sk-label:hover label.sk-toggleable__label {background-color: #d4ebff;}#sk-container-id-1 div.sk-serial::before {content: \"\";position: absolute;border-left: 1px solid gray;box-sizing: border-box;top: 0;bottom: 0;left: 50%;z-index: 0;}#sk-container-id-1 div.sk-serial {display: flex;flex-direction: column;align-items: center;background-color: white;padding-right: 0.2em;padding-left: 0.2em;position: relative;}#sk-container-id-1 div.sk-item {position: relative;z-index: 1;}#sk-container-id-1 div.sk-parallel {display: flex;align-items: stretch;justify-content: center;background-color: white;position: relative;}#sk-container-id-1 div.sk-item::before, #sk-container-id-1 div.sk-parallel-item::before {content: \"\";position: absolute;border-left: 1px solid gray;box-sizing: border-box;top: 0;bottom: 0;left: 50%;z-index: -1;}#sk-container-id-1 div.sk-parallel-item {display: flex;flex-direction: column;z-index: 1;position: relative;background-color: white;}#sk-container-id-1 div.sk-parallel-item:first-child::after {align-self: flex-end;width: 50%;}#sk-container-id-1 div.sk-parallel-item:last-child::after {align-self: flex-start;width: 50%;}#sk-container-id-1 div.sk-parallel-item:only-child::after {width: 0;}#sk-container-id-1 div.sk-dashed-wrapped {border: 1px dashed gray;margin: 0 0.4em 0.5em 0.4em;box-sizing: border-box;padding-bottom: 0.4em;background-color: white;}#sk-container-id-1 div.sk-label label {font-family: monospace;font-weight: bold;display: inline-block;line-height: 1.2em;}#sk-container-id-1 div.sk-label-container {text-align: center;}#sk-container-id-1 div.sk-container {/* jupyter's `normalize.less` sets `[hidden] { display: none; }` but bootstrap.min.css set `[hidden] { display: none !important; }` so we also need the `!important` here to be able to override the default hidden behavior on the sphinx rendered scikit-learn.org. See: https://github.com/scikit-learn/scikit-learn/issues/21755 */display: inline-block !important;position: relative;}#sk-container-id-1 div.sk-text-repr-fallback {display: none;}</style><div id=\"sk-container-id-1\" class=\"sk-top-container\"><div class=\"sk-text-repr-fallback\"><pre>SVC(kernel=&#x27;poly&#x27;)</pre><b>In a Jupyter environment, please rerun this cell to show the HTML representation or trust the notebook. <br />On GitHub, the HTML representation is unable to render, please try loading this page with nbviewer.org.</b></div><div class=\"sk-container\" hidden><div class=\"sk-item\"><div class=\"sk-estimator sk-toggleable\"><input class=\"sk-toggleable__control sk-hidden--visually\" id=\"sk-estimator-id-1\" type=\"checkbox\" checked><label for=\"sk-estimator-id-1\" class=\"sk-toggleable__label sk-toggleable__label-arrow\">SVC</label><div class=\"sk-toggleable__content\"><pre>SVC(kernel=&#x27;poly&#x27;)</pre></div></div></div></div></div>"
      ],
      "text/plain": [
       "SVC(kernel='poly')"
      ]
     },
     "execution_count": 7,
     "metadata": {},
     "output_type": "execute_result"
    }
   ],
   "source": [
    "clf_best = svm.SVC(**gs.best_params_)\n",
    "clf_best.fit(X_train, Y_train) "
   ]
  },
  {
   "cell_type": "code",
   "execution_count": 8,
   "id": "2ec82e43",
   "metadata": {},
   "outputs": [
    {
     "name": "stdout",
     "output_type": "stream",
     "text": [
      "Time in (sec) 9.788659811019897\n",
      "Accuracy Score on train data:  0.9049038201029531\n",
      "Accuracy Score on test data:  0.900129004515158\n"
     ]
    }
   ],
   "source": [
    "x_time = time.time()\n",
    "Y_pred_train = clf_best.predict( X_train )\n",
    "Y_pred_test = clf_best.predict( X_test )\n",
    "y_time = time.time()\n",
    "print(\"Time in (sec)\", y_time-x_time)\n",
    "print('Accuracy Score on train data: ', accuracy_score(y_true=Y_train, y_pred=Y_pred_train))\n",
    "print('Accuracy Score on test data: ', accuracy_score(y_true=Y_test, y_pred=Y_pred_test))"
   ]
  },
  {
   "cell_type": "code",
   "execution_count": 12,
   "id": "7a6b64a1",
   "metadata": {},
   "outputs": [
    {
     "name": "stdout",
     "output_type": "stream",
     "text": [
      "For the Test Cases : \n",
      "F1 Score:  0.4737199434229137\n",
      "Confusion Matrix:\n",
      "[[8373    0]\n",
      " [ 929    0]]\n"
     ]
    }
   ],
   "source": [
    "print(\"For the Test Cases : \")\n",
    "f1score = f1_score(Y_test, Y_pred_test, average='macro')\n",
    "print(\"F1 Score: \", f1score)\n",
    "cm = confusion_matrix(Y_test, Y_pred_test)\n",
    "print(\"Confusion Matrix:\")\n",
    "print(cm)"
   ]
  },
  {
   "cell_type": "code",
   "execution_count": null,
   "id": "6c909218",
   "metadata": {},
   "outputs": [],
   "source": []
  }
 ],
 "metadata": {
  "kernelspec": {
   "display_name": "Python 3 (ipykernel)",
   "language": "python",
   "name": "python3"
  },
  "language_info": {
   "codemirror_mode": {
    "name": "ipython",
    "version": 3
   },
   "file_extension": ".py",
   "mimetype": "text/x-python",
   "name": "python",
   "nbconvert_exporter": "python",
   "pygments_lexer": "ipython3",
   "version": "3.11.2"
  }
 },
 "nbformat": 4,
 "nbformat_minor": 5
}
